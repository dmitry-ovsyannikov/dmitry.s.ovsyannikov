{
 "cells": [
  {
   "cell_type": "markdown",
   "id": "6c4914df",
   "metadata": {
    "id": "6c4914df"
   },
   "source": [
    "Вы работаете аналитиком данных в онлайн-кинотеатре *SkyCinema*.\\\n",
    "Сегодня вы будете работать с **ивентами** (event - *событие*). Ивенты - это записи о клиентских событиях, таких как включение плеера с видео или заход на сайт онлайн-кинотеатра. Одной из важнейших задач аналитики является изучение и правка ошибочных ивентов.\n",
    "\n",
    "Ваша задача - изучить датасет на наличие ошибок.\n",
    "\n",
    "Импортируйте файл *event_list.xlsx* и сохраните его в датафрейм.\n",
    "\n",
    "**Описание данных**\n",
    "\n",
    "    - account_id - идентификатор пользователя\n",
    "    - server_time - время совершения действия\n",
    "    - action_id - идентификатор (тег) действия\n",
    "    - device_type - тип устройства\n",
    "    - user_browser - браузер\n",
    "    - screen_type - тип страницы, на которой совершается действие.\n",
    "*В рамках данного технического задания вам необходимо взять только те строки, у которых колонка screen_type принимает значение \"player\".*\n",
    "    \n",
    "**Описание ивентов**\n",
    "\n",
    "    - 'screenview' - заход на страницу с проигрывателем тайтла\n",
    "    - 'click' - клик по плееру\n",
    "    - 'playback_start' - включение проигрывателя\n",
    "    - 'playback_pause' - постановка проигрывателя на паузу\n",
    "    - 'playback_unpause' - снятия проигрывателя с паузы\n",
    "    - 'playback_stop'  - выключение страницы с проигрывателем"
   ]
  },
  {
   "cell_type": "code",
   "execution_count": 1,
   "id": "a264202f",
   "metadata": {
    "id": "a264202f"
   },
   "outputs": [
    {
     "data": {
      "text/html": [
       "<div>\n",
       "<style scoped>\n",
       "    .dataframe tbody tr th:only-of-type {\n",
       "        vertical-align: middle;\n",
       "    }\n",
       "\n",
       "    .dataframe tbody tr th {\n",
       "        vertical-align: top;\n",
       "    }\n",
       "\n",
       "    .dataframe thead th {\n",
       "        text-align: right;\n",
       "    }\n",
       "</style>\n",
       "<table border=\"1\" class=\"dataframe\">\n",
       "  <thead>\n",
       "    <tr style=\"text-align: right;\">\n",
       "      <th></th>\n",
       "      <th>account_id</th>\n",
       "      <th>server_time</th>\n",
       "      <th>screen_type</th>\n",
       "      <th>action_id</th>\n",
       "      <th>device_type</th>\n",
       "      <th>user_browser</th>\n",
       "    </tr>\n",
       "  </thead>\n",
       "  <tbody>\n",
       "    <tr>\n",
       "      <th>33</th>\n",
       "      <td>102313</td>\n",
       "      <td>2021-10-01 09:24:12</td>\n",
       "      <td>player</td>\n",
       "      <td>playback_start</td>\n",
       "      <td>desktop_web</td>\n",
       "      <td>Chrome</td>\n",
       "    </tr>\n",
       "    <tr>\n",
       "      <th>34</th>\n",
       "      <td>102313</td>\n",
       "      <td>2021-10-01 09:24:13</td>\n",
       "      <td>player</td>\n",
       "      <td>playback_pause</td>\n",
       "      <td>desktop_web</td>\n",
       "      <td>Chrome</td>\n",
       "    </tr>\n",
       "    <tr>\n",
       "      <th>43</th>\n",
       "      <td>102313</td>\n",
       "      <td>2021-10-01 11:53:54</td>\n",
       "      <td>player</td>\n",
       "      <td>playback_start</td>\n",
       "      <td>desktop_web</td>\n",
       "      <td>Chrome</td>\n",
       "    </tr>\n",
       "    <tr>\n",
       "      <th>44</th>\n",
       "      <td>102313</td>\n",
       "      <td>2021-10-01 11:53:56</td>\n",
       "      <td>player</td>\n",
       "      <td>playback_pause</td>\n",
       "      <td>desktop_web</td>\n",
       "      <td>Chrome</td>\n",
       "    </tr>\n",
       "    <tr>\n",
       "      <th>45</th>\n",
       "      <td>102313</td>\n",
       "      <td>2021-10-01 11:53:56</td>\n",
       "      <td>player</td>\n",
       "      <td>click</td>\n",
       "      <td>desktop_web</td>\n",
       "      <td>Chrome</td>\n",
       "    </tr>\n",
       "  </tbody>\n",
       "</table>\n",
       "</div>"
      ],
      "text/plain": [
       "    account_id         server_time screen_type       action_id  device_type  \\\n",
       "33      102313 2021-10-01 09:24:12      player  playback_start  desktop_web   \n",
       "34      102313 2021-10-01 09:24:13      player  playback_pause  desktop_web   \n",
       "43      102313 2021-10-01 11:53:54      player  playback_start  desktop_web   \n",
       "44      102313 2021-10-01 11:53:56      player  playback_pause  desktop_web   \n",
       "45      102313 2021-10-01 11:53:56      player           click  desktop_web   \n",
       "\n",
       "   user_browser  \n",
       "33       Chrome  \n",
       "34       Chrome  \n",
       "43       Chrome  \n",
       "44       Chrome  \n",
       "45       Chrome  "
      ]
     },
     "execution_count": 1,
     "metadata": {},
     "output_type": "execute_result"
    }
   ],
   "source": [
    "import pandas as pd\n",
    "# Загрузка данных\n",
    "events = pd.read_excel('event_list.xlsx')\n",
    "events = events[events['screen_type'] == 'player']  # ФИЛЬТР - только те строки, у которых колонка screen_type принимает значение \"player\".\n",
    "events.head()\n",
    "# events.dtypes"
   ]
  },
  {
   "cell_type": "markdown",
   "id": "ea994d11",
   "metadata": {
    "id": "ea994d11"
   },
   "source": [
    "### Задача 1\n",
    "\n",
    "Выделите 10 самых активных пользователей (тех, что сделали больше всего действий за данный период времени).\\\n",
    "Каким браузером чаще всего пользовались эти 10 пользователей?\\\n",
    "Какое действие занимает наибольший процент среди всех действий этих 10 пользователей?"
   ]
  },
  {
   "cell_type": "code",
   "execution_count": 2,
   "id": "44351fea",
   "metadata": {
    "id": "44351fea"
   },
   "outputs": [
    {
     "name": "stdout",
     "output_type": "stream",
     "text": [
      "36     102598\n",
      "145    103398\n",
      "37     102605\n",
      "76     102904\n",
      "108    103149\n",
      "199    103804\n",
      "120    103219\n",
      "10     102405\n",
      "74     102883\n",
      "138    103364\n",
      "Name: account_id, dtype: int64\n"
     ]
    }
   ],
   "source": [
    "active10 = events.groupby(['account_id'])\\\n",
    ".agg(  cnt_actions = ('server_time','count') )\\\n",
    ".reset_index().sort_values('cnt_actions', ascending = False)\\\n",
    ".head(10)['account_id']\n",
    "print(active10) # Получили список 10 самых активных.\n",
    "# type(active10) # Тип серия, т.к скобка одна."
   ]
  },
  {
   "cell_type": "code",
   "execution_count": 3,
   "id": "d611f80f-1d4b-4676-ab8b-03f8cc3bc8e8",
   "metadata": {},
   "outputs": [],
   "source": [
    "# Фильтруем исх таблицу - только 10 самых активных, столбцы оставляем все.\n",
    "active10_full = events[events['account_id'].isin(active10)] \n",
    "# print(active10_full)"
   ]
  },
  {
   "cell_type": "code",
   "execution_count": 5,
   "id": "d87cd99a-c40b-4c98-9bcc-31d4e00dff2c",
   "metadata": {},
   "outputs": [
    {
     "data": {
      "text/html": [
       "<div>\n",
       "<style scoped>\n",
       "    .dataframe tbody tr th:only-of-type {\n",
       "        vertical-align: middle;\n",
       "    }\n",
       "\n",
       "    .dataframe tbody tr th {\n",
       "        vertical-align: top;\n",
       "    }\n",
       "\n",
       "    .dataframe thead th {\n",
       "        text-align: right;\n",
       "    }\n",
       "</style>\n",
       "<table border=\"1\" class=\"dataframe\">\n",
       "  <thead>\n",
       "    <tr style=\"text-align: right;\">\n",
       "      <th></th>\n",
       "      <th>user_browser</th>\n",
       "      <th>cnt_actions</th>\n",
       "    </tr>\n",
       "  </thead>\n",
       "  <tbody>\n",
       "    <tr>\n",
       "      <th>4</th>\n",
       "      <td>Yandex</td>\n",
       "      <td>1004</td>\n",
       "    </tr>\n",
       "    <tr>\n",
       "      <th>0</th>\n",
       "      <td>Chrome</td>\n",
       "      <td>968</td>\n",
       "    </tr>\n",
       "    <tr>\n",
       "      <th>2</th>\n",
       "      <td>Safari</td>\n",
       "      <td>301</td>\n",
       "    </tr>\n",
       "    <tr>\n",
       "      <th>3</th>\n",
       "      <td>Samsung Browser</td>\n",
       "      <td>141</td>\n",
       "    </tr>\n",
       "    <tr>\n",
       "      <th>1</th>\n",
       "      <td>Edge</td>\n",
       "      <td>128</td>\n",
       "    </tr>\n",
       "  </tbody>\n",
       "</table>\n",
       "</div>"
      ],
      "text/plain": [
       "      user_browser  cnt_actions\n",
       "4           Yandex         1004\n",
       "0           Chrome          968\n",
       "2           Safari          301\n",
       "3  Samsung Browser          141\n",
       "1             Edge          128"
      ]
     },
     "execution_count": 5,
     "metadata": {},
     "output_type": "execute_result"
    }
   ],
   "source": [
    "# Каким браузером чаще всего пользовались эти 10 пользователей:\n",
    "active10_full.groupby(['user_browser'])\\\n",
    ".agg(  cnt_actions = ('server_time','count') )\\\n",
    ".reset_index().sort_values('cnt_actions', ascending = False)\\\n",
    ".head(60)"
   ]
  },
  {
   "cell_type": "code",
   "execution_count": 6,
   "id": "61f57d65-075a-4a8a-b375-4f0d558e3d1a",
   "metadata": {},
   "outputs": [
    {
     "name": "stdout",
     "output_type": "stream",
     "text": [
      "          action_id  cnt_actions  action_share_%\n",
      "0             click         1595       62.745869\n",
      "1    playback_pause          334       13.139260\n",
      "4  playback_unpause          313       12.313139\n",
      "2    playback_start          181        7.120378\n",
      "3     playback_stop          119        4.681353\n"
     ]
    }
   ],
   "source": [
    "# Какое действие занимает наибольший процент среди всех действий этих 10 пользователей:\n",
    "top_actions = active10_full.groupby(['action_id'])\\\n",
    ".agg(  cnt_actions = ('server_time','count') )\\\n",
    ".reset_index().sort_values('cnt_actions', ascending = False)\\\n",
    ".head(60)\n",
    "\n",
    "total_actions = top_actions['cnt_actions'].sum()  # Считаем сумму всех действий\n",
    "# print(total_actions)\n",
    "\n",
    "top_actions['action_share_%'] = 100*top_actions['cnt_actions'] / total_actions  # Считаем процентную долю каждого действия.\n",
    "print(top_actions)"
   ]
  },
  {
   "cell_type": "markdown",
   "id": "7515823a",
   "metadata": {
    "id": "7515823a"
   },
   "source": [
    "### Задача 2\n",
    "\n",
    "Проверьте данные на состоятельность:\n",
    "\n",
    "1. Есть ли клиенты, которые снимали видео с паузы хотя бы раз, но при этом не ставили видео на паузу ни разу?\n",
    "2. Есть ли клиенты, которые ставили видео на паузу хотя бы раз, но при этом не включали проигрыватель?\n",
    "\n",
    "С каких устройств и браузеров заходят пользователи, у которых встречаются подобные аномалии?\n",
    "\n",
    "*Подсказка*\\\n",
    "Воспользуйтесь методом серии unique(), чтобы для каждого действия (ивента) создать списки с уникальными пользователями, которые совершали эти действия. \\\n",
    "Посмотрите на соответствующие исключения списков друг из друга, чтобы определить пользователей с проблемной последовательностью событий."
   ]
  },
  {
   "cell_type": "code",
   "execution_count": 8,
   "id": "d4713f46",
   "metadata": {
    "id": "d4713f46"
   },
   "outputs": [
    {
     "name": "stdout",
     "output_type": "stream",
     "text": [
      "1)Клиенты, которые снимали видео с паузы хотя бы раз, но при этом не ставили видео на паузу ни разу: {102345, 103050, 102918}\n",
      "  user_browser  device_type  cnt_actions\n",
      "0       Chrome  desktop_web           32\n",
      "1       Safari  desktop_web            4\n",
      "2)Клиенты, которые ставили видео на паузу хотя бы раз, но при этом не включали проигрыватель: {103052, 102669}\n",
      "  user_browser  device_type  cnt_actions\n",
      "0       Safari  desktop_web            8\n"
     ]
    }
   ],
   "source": [
    "# 2.1 клиенты, которые снимали видео с паузы хотя бы раз, но при этом не ставили видео на паузу ни разу:\n",
    "paused_users = events[events['action_id'] == 'playback_pause']['account_id'].unique()\n",
    "unpaused_users = events[events['action_id'] == 'playback_unpause']['account_id'].unique()\n",
    "task2_1 = set(unpaused_users) - set(paused_users)  # Переводим списки отобранных людей в МНОЖЕСТВА - set, где только уникальные, и найдем разницу.  \n",
    "print('1)Клиенты, которые снимали видео с паузы хотя бы раз, но при этом не ставили видео на паузу ни разу:', task2_1)\n",
    "# 2.1 С каких устройств и браузеров заходят:\n",
    "filtered_task2_1 = events[events['account_id'].isin(task2_1)]\n",
    "agg_task2_1 = filtered_task2_1.groupby(['user_browser', 'device_type'])\\\n",
    ".agg(  cnt_actions = ('server_time','count') )\\\n",
    ".reset_index().sort_values('cnt_actions', ascending = False)\\\n",
    ".head(60)\n",
    "print(agg_task2_1)\n",
    "\n",
    "# 2.2 клиенты, которые ставили видео на паузу хотя бы раз, но при этом не включали проигрыватель:\n",
    "started_users = events[events['action_id'] == 'playback_start']['account_id'].unique()\n",
    "task2_2 = set(paused_users) - set(started_users)\n",
    "print('2)Клиенты, которые ставили видео на паузу хотя бы раз, но при этом не включали проигрыватель:', task2_2)\n",
    "# 2.2 С каких устройств и браузеров заходят:\n",
    "filtered_task2_2 = events[events['account_id'].isin(task2_2)]\n",
    "agg_task2_2 = filtered_task2_2.groupby(['user_browser', 'device_type'])\\\n",
    ".agg(  cnt_actions = ('server_time','count') )\\\n",
    ".reset_index().sort_values('cnt_actions', ascending = False)\\\n",
    ".head(60)\n",
    "print(agg_task2_2)"
   ]
  },
  {
   "cell_type": "markdown",
   "id": "0792a2e5",
   "metadata": {
    "id": "0792a2e5"
   },
   "source": [
    "### Задача 3\n",
    "\n",
    "1. Изучите пользователей, у которых есть только одно событие. Какой вид события встречается чаще всего? Какие из встречающихся событий вы бы посчитали ошибочными?\n",
    "2. Изучите пользователей, у которых есть только два события. Какие из их последовательностей событий вы бы посчитали ошибочными?"
   ]
  },
  {
   "cell_type": "code",
   "execution_count": 9,
   "id": "836add86-ec94-4c07-88ea-6851b8c7217a",
   "metadata": {},
   "outputs": [
    {
     "name": "stdout",
     "output_type": "stream",
     "text": [
      "3.1/1)15 Пользователей, у которых есть только одно событие:  70     102839\n",
      "106    103140\n",
      "73     102865\n",
      "200    103813\n",
      "18     102461\n",
      "72     102853\n",
      "26     102520\n",
      "Name: account_id, dtype: int64\n",
      "3.1/2)Какой вид события встречается чаще всего:         action_id  cnt\n",
      "2   playback_stop    3\n",
      "0           click    2\n",
      "1  playback_start    2\n",
      "3.1/3)Какие из встречающихся событий вы бы посчитали ошибочными?   ОТВЕТ:  Следующие события выглядят ошибочными, поскольку им должен предшествовать просмотр страницы:  click (клик по плееру) и  playback_stop  (выключение страницы с проигрывателем).\n"
     ]
    }
   ],
   "source": [
    "events_asc = events.groupby(['account_id'])\\\n",
    ".agg(  cnt_actions = ('server_time','count') )\\\n",
    ".reset_index().sort_values('cnt_actions', ascending = True)\\\n",
    ".head(30)\n",
    "# print(events_asc) # Получили список с малым числом действий.\n",
    "\n",
    "events1 = events_asc[events_asc['cnt_actions'] == 1]['account_id'] # Отфильтруем только с 1 действием.\n",
    "print('3.1/1)15 Пользователей, у которых есть только одно событие: ',events1)\n",
    "\n",
    "task3_1 = events[events['account_id'].isin(events1)] # Из общей исх таблицы отфильтруем и возьмём только тех 15 пользователей с 1 действием.\n",
    "# print(task3_1)\n",
    "\n",
    "# Какой вид события встречается чаще всего?\n",
    "agg_task3_1 = task3_1.groupby(['action_id'])\\\n",
    ".agg(  cnt = ('server_time','count') )\\\n",
    ".reset_index().sort_values('cnt', ascending = False)\\\n",
    ".head(20)\n",
    "print('3.1/2)Какой вид события встречается чаще всего:', agg_task3_1)\n",
    "print('3.1/3)Какие из встречающихся событий вы бы посчитали ошибочными?\\\n",
    "   ОТВЕТ:  Следующие события выглядят ошибочными, поскольку им должен предшествовать просмотр страницы:\\\n",
    "  click (клик по плееру) и  playback_stop  (выключение страницы с проигрывателем).')"
   ]
  },
  {
   "cell_type": "code",
   "execution_count": 10,
   "id": "3c2b1e0d",
   "metadata": {
    "id": "3c2b1e0d"
   },
   "outputs": [
    {
     "name": "stdout",
     "output_type": "stream",
     "text": [
      "3.2/1)9 Пользователей, у которых есть только 2 события:  186    103724\n",
      "95     103052\n",
      "54     102682\n",
      "167    103566\n",
      "28     102537\n",
      "80     102943\n",
      "150    103446\n",
      "Name: account_id, dtype: int64\n",
      "3.2/2)Группируем и по пользователю и по событию:     account_id       action_id         server_time  cnt\n",
      "12      103724  playback_start 2021-10-01 13:24:46    1\n",
      "13      103724   playback_stop 2021-10-01 13:24:52    1\n",
      "10      103566           click 2021-10-01 10:12:56    1\n",
      "11      103566  playback_start 2021-10-01 10:12:48    1\n",
      "8       103446  playback_start 2021-10-01 18:43:42    1\n",
      "9       103446   playback_stop 2021-10-01 18:44:14    1\n",
      "6       103052           click 2021-10-01 00:06:40    1\n",
      "7       103052  playback_pause 2021-10-01 00:06:53    1\n",
      "4       102943  playback_pause 2021-10-01 19:48:12    1\n",
      "5       102943  playback_start 2021-10-01 19:48:09    1\n",
      "2       102682   playback_stop 2021-10-01 00:06:08    1\n",
      "3       102682   playback_stop 2021-10-01 00:10:12    1\n",
      "0       102537  playback_start 2021-10-01 18:48:43    1\n",
      "1       102537   playback_stop 2021-10-01 18:50:18    1\n",
      "3.2/3) Какие из их последовательностей событий вы бы посчитали ошибочными?    ОТВЕТ:  Ошибочными выглядят: 1) id 102682 стоп 2 раза при отсутствии просмотра и старта; 2) id 103052 пара клик/пауза - без просмотра и старта. \n"
     ]
    }
   ],
   "source": [
    "events_asc = events.groupby(['account_id'])\\\n",
    ".agg(  cnt_actions = ('server_time','count') )\\\n",
    ".reset_index().sort_values('cnt_actions', ascending = True)\\\n",
    ".head(30)\n",
    "# print(events_asc) # Получили список с малым числом действий.\n",
    "\n",
    "events2 = events_asc[events_asc['cnt_actions'] == 2]['account_id'] # Отфильтруем только с 2 действиями.\n",
    "print('3.2/1)9 Пользователей, у которых есть только 2 события: ',events2)\n",
    "\n",
    "task3_2 = events[events['account_id'].isin(events2)] # Из общей исх таблицы отфильтруем и возьмём только те 9 пользователей с 2 действиями.\n",
    "# print(task3_2)\n",
    "\n",
    "# Группируем и по пользователю и по событию:\n",
    "agg_task3_2 = task3_2.groupby(['account_id', 'action_id', 'server_time'])\\\n",
    ".agg(  cnt = ('server_time','count') )\\\n",
    ".reset_index().sort_values('account_id', ascending = False)\\\n",
    ".head(40)\n",
    "print('3.2/2)Группируем и по пользователю и по событию:', agg_task3_2)\n",
    "print('3.2/3) Какие из их последовательностей событий вы бы посчитали ошибочными? \\\n",
    "   ОТВЕТ:  Ошибочными выглядят: 1) id 102682 стоп 2 раза при отсутствии просмотра и старта; \\\n",
    "2) id 103052 пара клик/пауза - без просмотра и старта. ')"
   ]
  }
 ],
 "metadata": {
  "colab": {
   "provenance": []
  },
  "kernelspec": {
   "display_name": "Python 3 (ipykernel)",
   "language": "python",
   "name": "python3"
  },
  "language_info": {
   "codemirror_mode": {
    "name": "ipython",
    "version": 3
   },
   "file_extension": ".py",
   "mimetype": "text/x-python",
   "name": "python",
   "nbconvert_exporter": "python",
   "pygments_lexer": "ipython3",
   "version": "3.11.7"
  }
 },
 "nbformat": 4,
 "nbformat_minor": 5
}
